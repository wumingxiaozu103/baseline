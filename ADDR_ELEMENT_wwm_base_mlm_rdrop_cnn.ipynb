{
  "nbformat": 4,
  "nbformat_minor": 0,
  "metadata": {
    "accelerator": "GPU",
    "colab": {
      "name": "ADDR_ELEMENT_wwm_base_mlm_rdrop_cnn.ipynb",
      "provenance": [],
      "collapsed_sections": [],
      "machine_shape": "hm",
      "include_colab_link": true
    },
    "kernelspec": {
      "display_name": "Python 3",
      "name": "python3"
    },
    "language_info": {
      "name": "python"
    },
    "widgets": {
      "application/vnd.jupyter.widget-state+json": {
        "32fd1ad7209a46a1b0c73d83e646ecb6": {
          "model_module": "@jupyter-widgets/controls",
          "model_name": "HBoxModel",
          "state": {
            "_view_name": "HBoxView",
            "_dom_classes": [],
            "_model_name": "HBoxModel",
            "_view_module": "@jupyter-widgets/controls",
            "_model_module_version": "1.5.0",
            "_view_count": null,
            "_view_module_version": "1.5.0",
            "box_style": "",
            "layout": "IPY_MODEL_922e8b2d905546ba9b0e1652e6149292",
            "_model_module": "@jupyter-widgets/controls",
            "children": [
              "IPY_MODEL_d9c3a7b107a340929acd3dec974a8357",
              "IPY_MODEL_53a1d1e198ad4452b9678b6ab4076480"
            ]
          }
        },
        "5e017081cd1a468c9371535fb73553f5": {
          "model_module": "@jupyter-widgets/controls",
          "model_name": "HBoxModel",
          "state": {
            "_view_name": "HBoxView",
            "_dom_classes": [],
            "_model_name": "HBoxModel",
            "_view_module": "@jupyter-widgets/controls",
            "_model_module_version": "1.5.0",
            "_view_count": null,
            "_view_module_version": "1.5.0",
            "box_style": "",
            "layout": "IPY_MODEL_603965505d3b4b5591ab6ccaf290d6d1",
            "_model_module": "@jupyter-widgets/controls",
            "children": [
              "IPY_MODEL_c1b14df994bf49d88b86a1874cc028a3",
              "IPY_MODEL_0e78ce9a9cda4dcd8e9ccff31e88b1f9"
            ]
          }
        },
        "d9fffdf3a4a141009bdc1ed66ab8840c": {
          "model_module": "@jupyter-widgets/controls",
          "model_name": "HBoxModel",
          "state": {
            "_view_name": "HBoxView",
            "_dom_classes": [],
            "_model_name": "HBoxModel",
            "_view_module": "@jupyter-widgets/controls",
            "_model_module_version": "1.5.0",
            "_view_count": null,
            "_view_module_version": "1.5.0",
            "box_style": "",
            "layout": "IPY_MODEL_7bd991181b6443e4871e2455089b15b3",
            "_model_module": "@jupyter-widgets/controls",
            "children": [
              "IPY_MODEL_b1cf3a3c37324474a15807eafa92e96f",
              "IPY_MODEL_2f1602ea6b29413b9d7b8893d2fb20b1"
            ]
          }
        },
        "0dae1aed8d284495bb2f5a7e48d5991c": {
          "model_module": "@jupyter-widgets/controls",
          "model_name": "HBoxModel",
          "state": {
            "_view_name": "HBoxView",
            "_dom_classes": [],
            "_model_name": "HBoxModel",
            "_view_module": "@jupyter-widgets/controls",
            "_model_module_version": "1.5.0",
            "_view_count": null,
            "_view_module_version": "1.5.0",
            "box_style": "",
            "layout": "IPY_MODEL_41191cb5c49d4080906bd1ff51644491",
            "_model_module": "@jupyter-widgets/controls",
            "children": [
              "IPY_MODEL_c837e73f36464050a723c59bb455cb69",
              "IPY_MODEL_dd21ee36737a48af926aca2c21a7d4dc"
            ]
          }
        },
        "00160a8527a942b1b2eea173b35ecea9": {
          "model_module": "@jupyter-widgets/controls",
          "model_name": "HBoxModel",
          "state": {
            "_view_name": "HBoxView",
            "_dom_classes": [],
            "_model_name": "HBoxModel",
            "_view_module": "@jupyter-widgets/controls",
            "_model_module_version": "1.5.0",
            "_view_count": null,
            "_view_module_version": "1.5.0",
            "box_style": "",
            "layout": "IPY_MODEL_6611f71ca13842b996ca54c1cdb2311e",
            "_model_module": "@jupyter-widgets/controls",
            "children": [
              "IPY_MODEL_ecd5bc0fc8294684b19017f37deb1497",
              "IPY_MODEL_e023d57d28ad43d39f57b5e895ed7e4f"
            ]
          }
        }
      }
    }
  },
  "cells": [
    {
      "cell_type": "markdown",
      "metadata": {
        "id": "view-in-github",
        "colab_type": "text"
      },
      "source": [
        "<a href=\"https://colab.research.google.com/github/wumingxiaozu103/baseline/blob/main/ADDR_ELEMENT_wwm_base_mlm_rdrop_cnn.ipynb\" target=\"_parent\"><img src=\"https://colab.research.google.com/assets/colab-badge.svg\" alt=\"Open In Colab\"/></a>"
      ]
    },
    {
      "cell_type": "code",
      "metadata": {
        "colab": {
          "base_uri": "https://localhost:8080/"
        },
        "id": "R6OQGJoXZg0a",
        "outputId": "4ada6ec5-e464-4eeb-a7d2-1763fa9eed10"
      },
      "source": [
        "!pip install -q transformers sentencepiece pytorch-crf"
      ],
      "execution_count": null,
      "outputs": [
        {
          "output_type": "stream",
          "text": [
            "\u001b[K     |████████████████████████████████| 2.5 MB 4.3 MB/s \n",
            "\u001b[K     |████████████████████████████████| 1.2 MB 23.5 MB/s \n",
            "\u001b[K     |████████████████████████████████| 895 kB 37.4 MB/s \n",
            "\u001b[K     |████████████████████████████████| 3.3 MB 44.0 MB/s \n",
            "\u001b[?25h"
          ],
          "name": "stdout"
        }
      ]
    },
    {
      "cell_type": "code",
      "metadata": {
        "colab": {
          "base_uri": "https://localhost:8080/"
        },
        "id": "VrCnfPEbmQj6",
        "outputId": "eebd0979-f021-4a5f-ab01-e9d41d0d0dfa"
      },
      "source": [
        "import matplotlib\n",
        "\n",
        "import numpy as np\n",
        "import pandas as pd\n",
        "from copy import deepcopy\n",
        "from tqdm.auto import tqdm\n",
        "import json\n",
        "import random\n",
        "import os\n",
        "\n",
        "from sklearn.model_selection import StratifiedKFold, KFold, train_test_split\n",
        "from sklearn.preprocessing import LabelEncoder\n",
        "\n",
        "from transformers import BertForTokenClassification, BertTokenizerFast, AdamW\n",
        "from transformers.models.bert.modeling_bert import BertPreTrainedModel, BertModel\n",
        "\n",
        "import torch\n",
        "from torch import nn\n",
        "from torch import optim\n",
        "import torch.nn.functional as F\n",
        "from torch.utils.data import DataLoader, WeightedRandomSampler\n",
        "from torch.nn.utils.rnn import pad_sequence\n",
        "from torchcrf import CRF\n",
        "\n",
        "from matplotlib import pyplot as plt\n",
        "import joblib\n",
        "import re\n",
        "import gc\n",
        "from torch.optim.lr_scheduler import LambdaLR\n",
        "\n",
        "from collections import defaultdict, Counter\n",
        "\n",
        "from  torch.cuda.amp import GradScaler, autocast\n",
        "import shutil\n",
        "from sklearn.metrics import f1_score\n",
        "\n",
        "print(f'using {torch.cuda.get_device_name(device=None)}')"
      ],
      "execution_count": null,
      "outputs": [
        {
          "output_type": "stream",
          "text": [
            "2021-07-22 08:54:21,960 wwm_base_mlm_rdrop_cnn Falling back to TensorFlow client; we recommended you install the Cloud TPU client directly with pip install cloud-tpu-client.\n",
            "2021-07-22 08:54:22,254 wwm_base_mlm_rdrop_cnn Creating converter from 7 to 5\n",
            "2021-07-22 08:54:22,255 wwm_base_mlm_rdrop_cnn Creating converter from 5 to 7\n",
            "2021-07-22 08:54:22,257 wwm_base_mlm_rdrop_cnn Creating converter from 7 to 5\n",
            "2021-07-22 08:54:22,258 wwm_base_mlm_rdrop_cnn Creating converter from 5 to 7\n"
          ],
          "name": "stderr"
        },
        {
          "output_type": "stream",
          "text": [
            "using Tesla P100-PCIE-16GB\n"
          ],
          "name": "stdout"
        }
      ]
    },
    {
      "cell_type": "code",
      "metadata": {
        "id": "fif89V5n6Sgr"
      },
      "source": [
        "CFG = {\n",
        "    'name': 'wwm_base_mlm_rdrop_cnn',\n",
        "    'model': 'hfl/chinese-roberta-wwm-ext',\n",
        "    'seed': 22,\n",
        "    'batch_size': 64,\n",
        "    'max_patient': 99,\n",
        "    'total_step': 4000,\n",
        "    'eval_very': 100,\n",
        "}"
      ],
      "execution_count": null,
      "outputs": []
    },
    {
      "cell_type": "code",
      "metadata": {
        "id": "893q9f9Ura_I"
      },
      "source": [
        "work_dir = os.path.join('/content/drive/Shareddrives/wzlnot/addr_element/', CFG['name'])\n",
        "if os.path.exists(work_dir):\n",
        "  shutil.rmtree(work_dir, ignore_errors=True)\n",
        "  os.mkdir(work_dir)\n",
        "else:\n",
        "  os.mkdir(work_dir)"
      ],
      "execution_count": null,
      "outputs": []
    },
    {
      "cell_type": "code",
      "metadata": {
        "id": "YNeXKiymSNkM"
      },
      "source": [
        "train_file = '/content/drive/Shareddrives/wzlnot/addr_element/train.conll'\n",
        "dev_file = '/content/drive/Shareddrives/wzlnot/addr_element/dev.conll'\n",
        "test_file = '/content/drive/Shareddrives/wzlnot/addr_element/final_test.txt'\n",
        "pesudo_test_file = '/content/drive/Shareddrives/wzlnot/addr_element/unkown_addr_parsing_runid.txt'"
      ],
      "execution_count": null,
      "outputs": []
    },
    {
      "cell_type": "code",
      "metadata": {
        "id": "jSaVhlt4MkGP"
      },
      "source": [
        "def parse_data(file):\n",
        "  with open(file) as f:\n",
        "    raw = f.read()\n",
        "  if raw.endswith('\\n'): raw = raw[:-1]\n",
        "  data = []\n",
        "  for r in raw.split('\\n\\n'):\n",
        "    if r.endswith('\\n'): r = r[:-1]\n",
        "    split_text = []\n",
        "    label = []\n",
        "    for e in r.split('\\n'):\n",
        "      assert len(e.split(' ')) == 2, (e,r)\n",
        "      t, lab = e.split(' ')\n",
        "      split_text.append(t)\n",
        "      label.append(lab)\n",
        "    data.append({'split_text': split_text, 'label': label})\n",
        "  return data"
      ],
      "execution_count": null,
      "outputs": []
    },
    {
      "cell_type": "code",
      "metadata": {
        "id": "-iIe5qLc4kZn"
      },
      "source": [
        "def parse_pesudo(file):\n",
        "  with open(file) as f:\n",
        "    raw = f.read()\n",
        "  raw = re.sub(r'[\\u200e\\u200b\\u200d]', '\\u201d', raw) # \\u200e \\u200b \\u200d can not encode, but \\u201d can be encode to [UNK]\n",
        "  if raw.endswith('\\n'): raw = raw[:-1]\n",
        "  data = []\n",
        "  for r in raw.split('\\n'):\n",
        "    _, text, labels = r.split('\\u0001')\n",
        "    split_text = list(text)\n",
        "    label = labels.split(' ')\n",
        "    data.append({'split_text': split_text, 'label': label})\n",
        "  return data"
      ],
      "execution_count": null,
      "outputs": []
    },
    {
      "cell_type": "code",
      "metadata": {
        "id": "uP_Xg_aXMkOs"
      },
      "source": [
        "def tokenize_and_align_labels(tokenizer, texts, label_ids, label_all_tokens=True):\n",
        "    \"\"\"\n",
        "    texts: list of reocrds which is a list of word.\n",
        "    label_ids: as text, list of reocrds which is a list of label of word.\n",
        "    label_all_tokens: set the label to either the current label or -100.\n",
        "    \"\"\"\n",
        "    outputs = []\n",
        "    for i, label_id in enumerate(label_ids):\n",
        "        tokenized_inputs = tokenizer.encode_plus(texts[i], is_split_into_words=True, return_tensors='pt')\n",
        "        word_ids = tokenized_inputs.word_ids(batch_index=0)\n",
        "        previous_word_idx = None\n",
        "        align_label_id = []\n",
        "        for word_idx in word_ids:\n",
        "            # Special tokens have a word id that is None. We set the label to -100 so they are automatically\n",
        "            # ignored in the loss function.\n",
        "            if word_idx is None:\n",
        "                align_label_id.append(0)\n",
        "            # We set the label for the first token of each word.\n",
        "            elif word_idx != previous_word_idx:\n",
        "                align_label_id.append(label_id[word_idx])\n",
        "            # For the other tokens in a word, we set the label to either the current label or -100, depending on\n",
        "            # the label_all_tokens flag.\n",
        "            else:\n",
        "                align_label_id.append(label_id[word_idx] if label_all_tokens else 0)\n",
        "            previous_word_idx = word_idx\n",
        "\n",
        "        tokenized_inputs.update({\"labels\": torch.LongTensor(align_label_id)})\n",
        "        tokenized_inputs.update({\"text\": texts[i]})\n",
        "        outputs.append(tokenized_inputs)\n",
        "    return outputs"
      ],
      "execution_count": null,
      "outputs": []
    },
    {
      "cell_type": "code",
      "metadata": {
        "id": "aJmoN2_4MkXE"
      },
      "source": [
        "def collect_func(x):\n",
        "  output = {}\n",
        "  for k in x[0]:\n",
        "    if k != 'text':\n",
        "      # output[k] = pad_sequence([i[k].squeeze(0) for i in x], batch_first=True, padding_value= -100 if k=='labels' else 0)\n",
        "      output[k] = pad_sequence([i[k].squeeze(0) for i in x], batch_first=True)\n",
        "    else:\n",
        "      output[k] = [i[k] for i in x]\n",
        "  return output"
      ],
      "execution_count": null,
      "outputs": []
    },
    {
      "cell_type": "code",
      "metadata": {
        "id": "awjZofOcMkcH"
      },
      "source": [
        "def seed_everything(seed: int):\n",
        "    random.seed(seed)\n",
        "    os.environ[\"PYTHONHASHSEED\"] = str(seed)\n",
        "    np.random.seed(seed)\n",
        "    torch.manual_seed(seed)\n",
        "    torch.cuda.manual_seed(seed)\n",
        "    torch.backends.cudnn.deterministic = True\n",
        "\n",
        "def deepcopy_state_dict_to_cpu(model):\n",
        "    output = {}\n",
        "    for k, v in model.state_dict().items():\n",
        "        output[k] = deepcopy(v.cpu())\n",
        "    return output"
      ],
      "execution_count": null,
      "outputs": []
    },
    {
      "cell_type": "code",
      "metadata": {
        "id": "ptupuKI3NqJ5"
      },
      "source": [
        "def inference_entity(text, label):\n",
        "  output = []\n",
        "  curr_type = None\n",
        "  curr_entity = []\n",
        "  for t, l in zip(text, label):\n",
        "    if l.startswith(\"S\"):\n",
        "      curr_type = None\n",
        "      curr_entity = []\n",
        "      output.append(t)\n",
        "    elif l.startswith(\"B\"):\n",
        "      curr_entity = [t]\n",
        "      curr_type = l.split('-')[1]\n",
        "    elif l.startswith(\"E\"):\n",
        "      _curr_type = l.split('-')[1]\n",
        "      if _curr_type == curr_type and len(curr_entity) > 0:\n",
        "        curr_entity.append(t)\n",
        "        output.append(''.join(curr_entity))\n",
        "        curr_entity =[]\n",
        "        curr_type = None\n",
        "      else:\n",
        "        curr_entity =[]\n",
        "        curr_type = None\n",
        "    elif l.startswith(\"I\"):\n",
        "      _curr_type = l.split('-')[1]\n",
        "      if _curr_type == curr_type and len(curr_entity) > 0:\n",
        "        curr_entity.append(t)\n",
        "      else:\n",
        "        curr_entity =[]\n",
        "        curr_type = None\n",
        "    else:\n",
        "      curr_entity =[]\n",
        "      curr_type = None\n",
        "  return set(output)\n",
        "\n",
        "def post_process(labels):\n",
        "  if labels[-1].startswith('I'):\n",
        "    labels[-1] = 'E' + labels[-1][1:]\n",
        "  labels = [l if l != 'AAA' else 'O' for l in labels]\n",
        "  return labels\n",
        "\n",
        "\n",
        "def test_step_score(model, dl, device):\n",
        "    model.eval()\n",
        "    P = 0\n",
        "    G = 0\n",
        "    PG = 0\n",
        "    with torch.no_grad():\n",
        "        for data in dl:\n",
        "            texts = deepcopy(data['text'])\n",
        "            del(data['text'])\n",
        "            for k in data: data[k] = data[k].to(device)\n",
        "            _, pred = model(**data)\n",
        "            gt_ = data['labels'].cpu().numpy()\n",
        "            for bi in range(len(pred)):\n",
        "              _text = texts[bi]\n",
        "              pred_label = []\n",
        "              gt_label = []\n",
        "              for i, v in enumerate(pred[bi]):\n",
        "                if gt_[bi][i+1] != 0:\n",
        "                  gt_label.append(lbs.classes_[gt_[bi][i+1]])\n",
        "                  pred_label.append(lbs.classes_[v])\n",
        "              pred_label = post_process(pred_label)\n",
        "            \n",
        "              p = inference_entity(_text, pred_label)\n",
        "              g = inference_entity(_text, gt_label)\n",
        "              P += len(p)\n",
        "              G += len(g)\n",
        "              PG += len(p&g)\n",
        "\n",
        "    return 2*PG/(G+P)\n",
        "\n",
        "def test_step(model, dl, device):\n",
        "    model.eval()\n",
        "    gts = []\n",
        "    predicts = []\n",
        "    with torch.no_grad():\n",
        "        for data in dl:\n",
        "            del(data['text'])\n",
        "            for k in data: data[k] = data[k].to(device)\n",
        "            _, pred = model(**data)\n",
        "            gt_ = data['labels'].cpu().numpy()\n",
        "            for bi in range(len(pred)):\n",
        "              for i, v in enumerate(pred[bi]):\n",
        "                if gt_[bi][i+1] != 0:\n",
        "                  gts.append(gt_[bi][i+1])\n",
        "                  predicts.append(v)\n",
        "    return f1_score(gts, predicts, average='micro')\n",
        "\n",
        "def train_in_step(model, optimizer, lrs, train_dl, val_dl, device, total_steps, eval_every, max_patient):\n",
        "    best_score = 0\n",
        "    best_model = deepcopy_state_dict_to_cpu(model)\n",
        "   \n",
        "    hist = History(score_type='max')\n",
        "    patient = 0\n",
        "    \n",
        "    pbar = tqdm(range(total_steps), desc = f\"TRAIN\")\n",
        "    ds_iter = iter(train_dl)\n",
        "\n",
        "    scaler = GradScaler()\n",
        "\n",
        "    for curr_step in pbar:\n",
        "        try:\n",
        "            data = next(ds_iter)\n",
        "        except StopIteration:\n",
        "            ds_iter = iter(train_dl)\n",
        "            data = next(ds_iter)\n",
        "        model.train()\n",
        "        optimizer.zero_grad()\n",
        "        lrs.step()\n",
        "        if 'text' in data: del(data['text'])\n",
        "        for k in data: data[k] = data[k].to(device)\n",
        "\n",
        "        with autocast():\n",
        "            loss, _ = model.forward(**data)\n",
        "        \n",
        "        scaler.scale(loss).backward()\n",
        "        # scaler.unscale_(optimizer)\n",
        "        # torch.nn.utils.clip_grad_norm_(model.parameters(), 1.0)\n",
        "        scaler.step(optimizer)\n",
        "        scaler.update()\n",
        "\n",
        "        hist.step_update(loss.item(), optimizer.param_groups[0]['lr'])\n",
        "        status = hist.get_status()\n",
        "        status.update({'patient': patient})\n",
        "        pbar.set_postfix(status)\n",
        "        \n",
        "        \n",
        "        if curr_step % eval_every == eval_every-1:\n",
        "            score = test_step_score(model, val_dl, device)\n",
        "            hist.add_score(score, model)\n",
        "            if score > best_score:\n",
        "                best_score = score\n",
        "                best_model = deepcopy_state_dict_to_cpu(model)\n",
        "                patient = 0\n",
        "            else:\n",
        "                patient += 1\n",
        "                if patient > max_patient:\n",
        "                    print('reach max patient, break')\n",
        "                    break\n",
        "    return best_score, best_model, hist\n",
        "\n",
        "def predict_step(model, dl, device):\n",
        "    model.eval()\n",
        "    predicts = []\n",
        "    with torch.no_grad():\n",
        "        for data in dl:\n",
        "            del(data['text'])\n",
        "            for k in data: data[k] = data[k].to(device)\n",
        "            _, pred = model(**data)\n",
        "            gt_ = data['labels'].cpu().numpy()\n",
        "            for bi in range(len(pred)):\n",
        "              predicts.append([v for i, v in enumerate(pred[bi]) if gt_[bi][i+1] != 0])\n",
        "    return predicts"
      ],
      "execution_count": null,
      "outputs": []
    },
    {
      "cell_type": "code",
      "metadata": {
        "id": "Mi5HD_O5bOAz"
      },
      "source": [
        "def get_linear_schedule_with_warmup(optimizer, num_warmup_steps, num_training_steps, min_rate, last_epoch=-1):\n",
        "\n",
        "    def lr_lambda(current_step: int):\n",
        "        if current_step < num_warmup_steps:\n",
        "            return float(current_step) / float(max(1, num_warmup_steps)) * (1 - min_rate) + min_rate\n",
        "        return max(\n",
        "            min_rate, float(num_training_steps - current_step) / float(max(1, num_training_steps - num_warmup_steps))\n",
        "        )\n",
        "\n",
        "    return LambdaLR(optimizer, lr_lambda, last_epoch)\n",
        "\n",
        "class History():\n",
        "\n",
        "    def __init__(self, score_type='min', binsize=50):\n",
        "        self.loss = []\n",
        "        self.score = []\n",
        "        self.lr = []\n",
        "        self.l2 = []\n",
        "        self.step = 0\n",
        "        self.eval_steps = []\n",
        "        self.score_type = score_type\n",
        "        self.binsize = binsize\n",
        "\n",
        "    def step_update(self, loss, lr):\n",
        "        self.step += 1\n",
        "        self.loss.append(loss)\n",
        "        self.lr.append(lr)\n",
        "\n",
        "    def add_score(self, score, model):\n",
        "        self.eval_steps.append(self.step)\n",
        "        self.score.append(score)\n",
        "        self.l2.append(self.cal_model_l2(model))\n",
        "\n",
        "    def get_status(self):\n",
        "        avg_loss = np.mean(self.loss[-self.binsize:]) if len(self.loss) > 0 else np.inf\n",
        "        if self.score:\n",
        "            last_score = self.score[-1]\n",
        "            best_score = np.min(self.score) if self.score_type == 'min' else np.max(self.score)\n",
        "        else:\n",
        "            last_score = best_score = np.inf if self.score_type == 'min' else -np.inf\n",
        "        lr = self.lr[-1] if self.lr else 0\n",
        "        l2 = self.l2[-1] if self.l2 else np.inf\n",
        "        return {\"loss\": avg_loss, 'last_score': last_score, 'best_score': best_score, 'lr': lr, 'l2': l2}\n",
        "        \n",
        "    def cal_model_l2(self, model):\n",
        "        return torch.sqrt(sum([torch.pow(v, 2).sum() for k, v in model.state_dict().items() if 'position_ids' not in k])).item()\n",
        "\n",
        "    def plot(self, max_rate):\n",
        "        fig = plt.figure(figsize=(10,6))\n",
        "        ax1 = fig.add_subplot(211)\n",
        "        ax2 = fig.add_subplot(212)\n",
        "\n",
        "        x = np.arange(0, self.step, self.binsize)\n",
        "        y_loss = [np.mean(self.loss[max(0, i-self.binsize):i+1]) for i in x]\n",
        "        y_loss_min = np.min(y_loss)\n",
        "        y_loss = np.clip(y_loss, a_min=y_loss_min, a_max=max_rate*y_loss_min)\n",
        "        \n",
        "        ax1.set_ylabel('loss')\n",
        "        ax1.plot(x, y_loss, '-',label=\"loss\")\n",
        "        ax1s = ax1.twinx()\n",
        "        ax1s.set_ylabel('score')\n",
        "        score = -np.array(self.score) if self.score_type == 'min' else np.array(self.score)\n",
        "        ax1s.plot(self.eval_steps, score, '-r', label=\"score\")\n",
        "        lines1, labels1 = ax1.get_legend_handles_labels()\n",
        "        lines2, labels2 = ax1s.get_legend_handles_labels()\n",
        "        ax1s.legend(lines1+lines2,labels1+labels2, loc=0)\n",
        "        best_score_pos = (self.eval_steps[np.argmax(score)], max(score))\n",
        "                        \n",
        "        ax1s.annotate(f\"best:{max(score):.4f}\", xy=best_score_pos,\n",
        "                    xytext=(best_score_pos[0]*0.9, (best_score_pos[1]+max(score))/2), fontsize=12, color='green',\n",
        "                    arrowprops=dict(arrowstyle='<-', color='green', linewidth=1))\n",
        "        ax2.set_ylabel('lr')\n",
        "        \n",
        "        ax2.plot(x, np.array(self.lr)[x], '-', label=\"lr\")\n",
        "        ax2s = ax2.twinx()\n",
        "        ax2s.set_ylabel('l2')\n",
        "        \n",
        "        ax2s.plot(self.eval_steps, self.l2, '-r', label=\"l2\")\n",
        "        lines1, labels1 = ax2.get_legend_handles_labels()\n",
        "        lines2, labels2 = ax2s.get_legend_handles_labels()\n",
        "        ax2s.legend(lines1+lines2,labels1+labels2, loc=1)\n",
        "        return plt"
      ],
      "execution_count": null,
      "outputs": []
    },
    {
      "cell_type": "code",
      "metadata": {
        "id": "BQWcDdHARsJz"
      },
      "source": [
        "class BertCRT(nn.Module):\n",
        "\n",
        "  def __init__(self, backbone, num_labels, windows_size=5, drop_rate=0.3, alpha=0.5):\n",
        "    super().__init__()\n",
        "    self.alpha=alpha\n",
        "    self.num_labels = num_labels\n",
        "\n",
        "    self.backbone = backbone\n",
        "    self.pooling = nn.Sequential(\n",
        "        nn.Linear(self.backbone.config.hidden_size, self.backbone.config.hidden_size),\n",
        "        nn.Tanh())\n",
        "    self.cnn = nn.Conv2d(in_channels=1, out_channels=1, kernel_size=(windows_size, 1), padding='same')\n",
        "    self.rdropout =  nn.Sequential(nn.Dropout(0.3), nn.Dropout(0.3))\n",
        "    self.classifier = nn.Linear(self.backbone.config.hidden_size,self.num_labels)\n",
        "    self.crf = CRF(self.num_labels, batch_first=True)\n",
        "  \n",
        "  def forward(\n",
        "        self,\n",
        "        input_ids=None,\n",
        "        attention_mask=None,\n",
        "        token_type_ids=None,\n",
        "        position_ids=None,\n",
        "        head_mask=None,\n",
        "        inputs_embeds=None,\n",
        "        labels=None,\n",
        "        output_attentions=None,\n",
        "        output_hidden_states=None,\n",
        "        return_dict=None,):\n",
        "\n",
        "    outputs = self.backbone(\n",
        "        input_ids,\n",
        "        attention_mask=attention_mask,\n",
        "        token_type_ids=token_type_ids,\n",
        "        position_ids=position_ids,\n",
        "        head_mask=head_mask,\n",
        "        inputs_embeds=inputs_embeds,\n",
        "        output_attentions=output_attentions,\n",
        "        output_hidden_states=output_hidden_states,\n",
        "        return_dict=return_dict,\n",
        "    )\n",
        "\n",
        "    hidden = self.rdropout(self.cnn(self.pooling(outputs[0]).unsqueeze(1)).squeeze(1))\n",
        "\n",
        "    logits = self.classifier(hidden)\n",
        "    \n",
        "    loss_mask = attention_mask.bool().bool()\n",
        "    loss = None\n",
        "    if labels is not None:\n",
        "      outputs1 = self.backbone(\n",
        "        input_ids,\n",
        "        attention_mask=attention_mask,\n",
        "        token_type_ids=token_type_ids,\n",
        "        position_ids=position_ids,\n",
        "        head_mask=head_mask,\n",
        "        inputs_embeds=inputs_embeds,\n",
        "        output_attentions=output_attentions,\n",
        "        output_hidden_states=output_hidden_states,\n",
        "        return_dict=return_dict)\n",
        "\n",
        "      hidden1 = self.rdropout(self.cnn(self.pooling(outputs1[0]).unsqueeze(1)).squeeze(1))\n",
        "\n",
        "      logits1 = self.classifier(hidden1)\n",
        "\n",
        "      ce_loss = -self.crf(logits[:,1:], labels[:,1:], mask=loss_mask[:,1:], reduction='mean')\n",
        "      ce_loss_1 = -self.crf(logits1[:,1:], labels[:,1:], mask=loss_mask[:,1:], reduction='mean')\n",
        "      kl_loss = compute_kl_loss(logits[:,1:], logits1[:,1:], loss_mask[:,1:]!=1)\n",
        "      loss = 0.5*ce_loss + 0.5*ce_loss_1 + self.alpha * kl_loss\n",
        "    \n",
        "    loss_mask = attention_mask.bool().bool()\n",
        "\n",
        "    if labels is not None:\n",
        "      loss = -self.crf(logits[:,1:], labels[:,1:], mask=loss_mask[:,1:], reduction='mean')\n",
        "    prediction = self.crf.decode(logits[:,1:], mask=loss_mask[:,1:])\n",
        "    return loss, prediction\n",
        "\n",
        "def compute_kl_loss(p, q, pad_mask=None):    \n",
        "    p_loss = F.kl_div(F.log_softmax(p, dim=-1), F.softmax(q, dim=-1), reduction='none').sum(-1)\n",
        "    q_loss = F.kl_div(F.log_softmax(q, dim=-1), F.softmax(p, dim=-1), reduction='none').sum(-1)\n",
        "  \n",
        "    # pad_mask is for seq-level tasks\n",
        "    if pad_mask is not None:\n",
        "        p_loss.masked_fill_(pad_mask, 0.)\n",
        "        q_loss.masked_fill_(pad_mask, 0.)\n",
        "\n",
        "    # You can choose whether to use function \"sum\" and \"mean\" depending on your task\n",
        "    p_loss = p_loss.sum(-1) / (pad_mask != 0).sum(-1)\n",
        "    q_loss = q_loss.sum(-1) / (pad_mask !=0).sum(-1)\n",
        "\n",
        "    p_loss = p_loss.sum()\n",
        "    q_loss = q_loss.sum() \n",
        "\n",
        "    loss = (p_loss + q_loss) / 2\n",
        "    return loss"
      ],
      "execution_count": null,
      "outputs": []
    },
    {
      "cell_type": "code",
      "metadata": {
        "id": "3Mv8v_h_aApa"
      },
      "source": [
        "import logging\n",
        "\n",
        "def set_logging(tag):\n",
        "  logger = logging.getLogger() # no parameter means the root logger\n",
        "  formatter = logging.Formatter(f\"%(asctime)s {tag} %(message)s\")\n",
        "  handler2 = logging.StreamHandler()\n",
        "  handler2.setFormatter(formatter)\n",
        "  handler2.setLevel(logging.DEBUG)\n",
        "  logger.addHandler(handler2)\n",
        "  logger.setLevel(logging.DEBUG)\n",
        "\n",
        "def info(s):\n",
        "  logging.info(s)\n",
        "\n",
        "set_logging(CFG['name'])"
      ],
      "execution_count": null,
      "outputs": []
    },
    {
      "cell_type": "code",
      "metadata": {
        "id": "czmZ4r3drqp5"
      },
      "source": [
        "\n",
        "def check(label_list, verbose=0):\n",
        "  i = 0\n",
        "  while i < len(label_list):\n",
        "    if label_list[i].startswith('S') or label_list[i] == \"O\":\n",
        "      i += 1\n",
        "    elif label_list[i].startswith('B'):\n",
        "      if i == len(label_list) -1:\n",
        "        return False\n",
        "      _, cls = label_list[i].split('-')\n",
        "      find_end = False\n",
        "      for j in range(i+1, len(label_list)):\n",
        "        if find_end:\n",
        "          i = j\n",
        "          break\n",
        "        else:\n",
        "          if label_list[j].startswith('S') or label_list[j] == \"O\":\n",
        "            return False\n",
        "          try:\n",
        "            curr_head, curr_cls = label_list[j].split('-')\n",
        "          except ValueError:\n",
        "            return False\n",
        "            raise ValueError(label_list[j], label_list)\n",
        "        \n",
        "          if curr_head == \"I\":\n",
        "            continue\n",
        "          elif curr_head == \"E\":\n",
        "            find_end=True\n",
        "            continue\n",
        "          else:\n",
        "            if verbose: print(3)\n",
        "            return False\n",
        "      if j == len(label_list) -1:\n",
        "        if find_end:\n",
        "          return True\n",
        "        else:\n",
        "          if verbose: print(4)\n",
        "          return False\n",
        "    else:\n",
        "      if verbose: print(5)\n",
        "      return False\n",
        "  return True\n",
        "\n",
        "def post_process(labels):\n",
        "  if labels[-1].startswith('I'):\n",
        "    labels[-1] = 'E' + labels[-1][1:]\n",
        "  for i in range(1, len(labels)):\n",
        "    if labels[i].startswith('B') and labels[i-1].startswith('I'):\n",
        "      labels[i-1] = 'E' + labels[i-1][1:]\n",
        "  labels = [l if l != 'AAA' else 'O' for l in labels]\n",
        "  return labels"
      ],
      "execution_count": null,
      "outputs": []
    },
    {
      "cell_type": "code",
      "metadata": {
        "colab": {
          "base_uri": "https://localhost:8080/",
          "height": 1000,
          "referenced_widgets": [
            "32fd1ad7209a46a1b0c73d83e646ecb6",
            "5e017081cd1a468c9371535fb73553f5",
            "d9fffdf3a4a141009bdc1ed66ab8840c",
            "0dae1aed8d284495bb2f5a7e48d5991c",
            "00160a8527a942b1b2eea173b35ecea9",
            "922e8b2d905546ba9b0e1652e6149292",
            "d9c3a7b107a340929acd3dec974a8357",
            "53a1d1e198ad4452b9678b6ab4076480",
            "603965505d3b4b5591ab6ccaf290d6d1",
            "c1b14df994bf49d88b86a1874cc028a3",
            "0e78ce9a9cda4dcd8e9ccff31e88b1f9",
            "7bd991181b6443e4871e2455089b15b3",
            "b1cf3a3c37324474a15807eafa92e96f",
            "2f1602ea6b29413b9d7b8893d2fb20b1",
            "41191cb5c49d4080906bd1ff51644491",
            "c837e73f36464050a723c59bb455cb69",
            "dd21ee36737a48af926aca2c21a7d4dc",
            "6611f71ca13842b996ca54c1cdb2311e",
            "ecd5bc0fc8294684b19017f37deb1497",
            "e023d57d28ad43d39f57b5e895ed7e4f"
          ]
        },
        "id": "crP-21aBMkf3",
        "outputId": "614565df-3e52-444f-a956-c5a463fe7070"
      },
      "source": [
        "scores = []\n",
        "CFG['max_patient'] = 5\n",
        "\n",
        "gc.collect()\n",
        "torch.cuda.empty_cache()\n",
        "\n",
        "info('loading test')\n",
        "with open(test_file) as f:\n",
        "  raw =f.read().strip()\n",
        "raw = re.sub(r'[\\u200e\\u200b\\u200d]', '\\u201d', raw) # \\u200e \\u200b \\u200d can not encode, but \\u201d can be encode to [UNK]\n",
        "test = []\n",
        "for r in raw.split('\\n'):\n",
        "  assert len(r.split('\\u0001')) == 2, r\n",
        "  no,text = r.split('\\u0001')\n",
        "  test.append({'text': text, 'no': no})\n",
        "\n",
        "test_ds = tokenize_and_align_labels(tokenizer, [list(i['text']) for i in test], [np.ones(len(i['text'])) for i in test])\n",
        "test_dataloader = DataLoader(test_ds, shuffle=False, batch_size=CFG['batch_size'], collate_fn=collect_func, num_workers=2)\n",
        "\n",
        "tokenizer = BertTokenizerFast.from_pretrained(CFG['model'])\n",
        "\n",
        "device = torch.device('cuda') if torch.cuda.is_available() else torch.device('cpu')\n",
        "# no_decay = ['.bias', 'LayerNorm.bias', 'LayerNorm.weight', 'pooler', 'task']\n",
        "no_decay = ['.bias', 'LayerNorm.bias', 'LayerNorm.weight']\n",
        "\n",
        "seed_everything(CFG['seed'])\n",
        "train = parse_data(train_file)\n",
        "val = parse_data(dev_file)\n",
        "data = train+val\n",
        "lbs = LabelEncoder()\n",
        "lbs.fit(['AAA'] + [l for i in data for l in i['label']])\n",
        "k_fold = KFold(5, shuffle=True, random_state=CFG['seed'])\n",
        "\n",
        "oof_predicts = []\n",
        "\n",
        "for fold_i, (train_idx, val_idx) in enumerate(k_fold.split(data)):\n",
        "  print(f\"fold: {fold_i}\")\n",
        "  train =[data[i] for i in train_idx]\n",
        "  val = [data[i] for i in val_idx]  \n",
        "  train_ds = tokenize_and_align_labels(tokenizer, [i['split_text'] for i in train], [lbs.transform(i['label']) for i in train])\n",
        "  val_ds = tokenize_and_align_labels(tokenizer, [i['split_text'] for i in val], [lbs.transform(i['label']) for i in val])\n",
        "  train_dataloader = DataLoader(train_ds, shuffle=True, batch_size=CFG['batch_size'], collate_fn=collect_func, num_workers=4)\n",
        "  val_dataloader = DataLoader(val_ds, shuffle=False, batch_size=CFG['batch_size'], collate_fn=collect_func, num_workers=4)\n",
        "    \n",
        "  model = BertCRT(BertModel.from_pretrained('/content/drive/Shareddrives/wzlnot/addr_element/mlm_tuning'), num_labels=len(lbs.classes_))\n",
        "\n",
        "  model.to(device)\n",
        "      \n",
        "  optimizer = AdamW([\n",
        "      {'params': [p for n, p in model.named_parameters() if not any(nd in n for nd in no_decay) and 'crf' not in n],\n",
        "      'lr': 1e-5, 'weight_decay': 1e-3},\n",
        "      {'params': [p for n, p in model.named_parameters() if 'crf' in n],\n",
        "      'lr': 5e-2, 'weight_decay': 1e-3},\n",
        "      {'params': [p for n, p in model.named_parameters() if any(nd in n for nd in no_decay) and 'crf' not in n],\n",
        "      'lr': 1e-5, 'weight_decay': 0}])\n",
        "\n",
        "  lr_scheduler = get_linear_schedule_with_warmup(optimizer, num_warmup_steps=200, num_training_steps=1000, min_rate=1)\n",
        "  best_score, best_model, hist = train_in_step(model, optimizer, lr_scheduler, train_dataloader, val_dataloader, device, CFG['total_step'], CFG['eval_very'], CFG['max_patient'])\n",
        "  scores.append(best_score)\n",
        "  torch.save(best_model, os.path.join(work_dir, f'model_{fold_i}.pth'))\n",
        "  hist.plot(10).savefig(os.path.join(work_dir, f'history_{fold_i}.png'))\n",
        "  info(f'fold-{fold_i} best is {best_score}')\n",
        "  \n",
        "  print('predict')\n",
        "  model.load_state_dict(best_model)\n",
        "  # model.to(device)\n",
        "  preds = predict_step(model, test_dataloader, device)\n",
        "  pred_labels = [[lbs.classes_[j] for j in i] for i in preds]\n",
        "  info(f'fold-{fold_i} bad case: {len([i for i in pred_labels if not check(i)])}')\n",
        "\n",
        "  pp_pred_labels = [post_process(i) for i in pred_labels]\n",
        "  info(f'fold-{fold_i} bad case after pp: {len([i for i in pp_pred_labels if not check(i)])}')\n",
        "\n",
        "  oof_predicts.append(pp_pred_labels)\n",
        "\n",
        "info(f'oof score: {np.mean(scores)}')"
      ],
      "execution_count": null,
      "outputs": [
        {
          "output_type": "stream",
          "text": [
            "2021-07-22 11:54:52,209 wwm_base_mlm_rdrop_cnn loading test\n",
            "2021-07-22 11:55:01,649 wwm_base_mlm_rdrop_cnn Starting new HTTPS connection (1): huggingface.co:443\n",
            "2021-07-22 11:55:02,367 wwm_base_mlm_rdrop_cnn https://huggingface.co:443 \"HEAD /hfl/chinese-roberta-wwm-ext/resolve/main/vocab.txt HTTP/1.1\" 200 0\n",
            "2021-07-22 11:55:02,372 wwm_base_mlm_rdrop_cnn Starting new HTTPS connection (1): huggingface.co:443\n",
            "2021-07-22 11:55:03,087 wwm_base_mlm_rdrop_cnn https://huggingface.co:443 \"HEAD /hfl/chinese-roberta-wwm-ext/resolve/main/tokenizer.json HTTP/1.1\" 200 0\n",
            "2021-07-22 11:55:03,092 wwm_base_mlm_rdrop_cnn Starting new HTTPS connection (1): huggingface.co:443\n",
            "2021-07-22 11:55:03,806 wwm_base_mlm_rdrop_cnn https://huggingface.co:443 \"HEAD /hfl/chinese-roberta-wwm-ext/resolve/main/added_tokens.json HTTP/1.1\" 200 0\n",
            "2021-07-22 11:55:03,811 wwm_base_mlm_rdrop_cnn Starting new HTTPS connection (1): huggingface.co:443\n",
            "2021-07-22 11:55:04,526 wwm_base_mlm_rdrop_cnn https://huggingface.co:443 \"HEAD /hfl/chinese-roberta-wwm-ext/resolve/main/special_tokens_map.json HTTP/1.1\" 200 0\n",
            "2021-07-22 11:55:04,530 wwm_base_mlm_rdrop_cnn Starting new HTTPS connection (1): huggingface.co:443\n",
            "2021-07-22 11:55:05,246 wwm_base_mlm_rdrop_cnn https://huggingface.co:443 \"HEAD /hfl/chinese-roberta-wwm-ext/resolve/main/tokenizer_config.json HTTP/1.1\" 200 0\n"
          ],
          "name": "stderr"
        },
        {
          "output_type": "stream",
          "text": [
            "fold: 0\n"
          ],
          "name": "stdout"
        },
        {
          "output_type": "stream",
          "text": [
            "Some weights of the model checkpoint at /content/drive/Shareddrives/wzlnot/addr_element/mlm_tuning were not used when initializing BertModel: ['cls.predictions.transform.dense.weight', 'cls.predictions.transform.LayerNorm.bias', 'cls.predictions.decoder.bias', 'cls.predictions.transform.dense.bias', 'cls.predictions.decoder.weight', 'cls.predictions.transform.LayerNorm.weight', 'cls.predictions.bias']\n",
            "- This IS expected if you are initializing BertModel from the checkpoint of a model trained on another task or with another architecture (e.g. initializing a BertForSequenceClassification model from a BertForPreTraining model).\n",
            "- This IS NOT expected if you are initializing BertModel from the checkpoint of a model that you expect to be exactly identical (initializing a BertForSequenceClassification model from a BertForSequenceClassification model).\n",
            "Some weights of BertModel were not initialized from the model checkpoint at /content/drive/Shareddrives/wzlnot/addr_element/mlm_tuning and are newly initialized: ['bert.pooler.dense.weight', 'bert.pooler.dense.bias']\n",
            "You should probably TRAIN this model on a down-stream task to be able to use it for predictions and inference.\n"
          ],
          "name": "stderr"
        },
        {
          "output_type": "display_data",
          "data": {
            "application/vnd.jupyter.widget-view+json": {
              "model_id": "32fd1ad7209a46a1b0c73d83e646ecb6",
              "version_major": 2,
              "version_minor": 0
            },
            "text/plain": [
              "HBox(children=(FloatProgress(value=0.0, description='TRAIN', max=4000.0, style=ProgressStyle(description_width…"
            ]
          },
          "metadata": {
            "tags": []
          }
        },
        {
          "output_type": "stream",
          "text": [
            "/usr/local/lib/python3.7/dist-packages/torch/optim/lr_scheduler.py:134: UserWarning: Detected call of `lr_scheduler.step()` before `optimizer.step()`. In PyTorch 1.1.0 and later, you should call them in the opposite order: `optimizer.step()` before `lr_scheduler.step()`.  Failure to do this will result in PyTorch skipping the first value of the learning rate schedule. See more details at https://pytorch.org/docs/stable/optim.html#how-to-adjust-learning-rate\n",
            "  \"https://pytorch.org/docs/stable/optim.html#how-to-adjust-learning-rate\", UserWarning)\n"
          ],
          "name": "stderr"
        },
        {
          "output_type": "stream",
          "text": [
            "reach max patient, break\n"
          ],
          "name": "stdout"
        },
        {
          "output_type": "stream",
          "text": [
            "2021-07-22 12:15:49,192 wwm_base_mlm_rdrop_cnn fold-0 best is 0.9613085274283801\n"
          ],
          "name": "stderr"
        },
        {
          "output_type": "stream",
          "text": [
            "predict\n"
          ],
          "name": "stdout"
        },
        {
          "output_type": "stream",
          "text": [
            "2021-07-22 12:18:26,356 wwm_base_mlm_rdrop_cnn fold-0 bad case: 0\n",
            "2021-07-22 12:18:27,153 wwm_base_mlm_rdrop_cnn fold-0 bad case after pp: 0\n"
          ],
          "name": "stderr"
        },
        {
          "output_type": "stream",
          "text": [
            "fold: 1\n"
          ],
          "name": "stdout"
        },
        {
          "output_type": "stream",
          "text": [
            "Some weights of the model checkpoint at /content/drive/Shareddrives/wzlnot/addr_element/mlm_tuning were not used when initializing BertModel: ['cls.predictions.transform.dense.weight', 'cls.predictions.transform.LayerNorm.bias', 'cls.predictions.decoder.bias', 'cls.predictions.transform.dense.bias', 'cls.predictions.decoder.weight', 'cls.predictions.transform.LayerNorm.weight', 'cls.predictions.bias']\n",
            "- This IS expected if you are initializing BertModel from the checkpoint of a model trained on another task or with another architecture (e.g. initializing a BertForSequenceClassification model from a BertForPreTraining model).\n",
            "- This IS NOT expected if you are initializing BertModel from the checkpoint of a model that you expect to be exactly identical (initializing a BertForSequenceClassification model from a BertForSequenceClassification model).\n",
            "Some weights of BertModel were not initialized from the model checkpoint at /content/drive/Shareddrives/wzlnot/addr_element/mlm_tuning and are newly initialized: ['bert.pooler.dense.weight', 'bert.pooler.dense.bias']\n",
            "You should probably TRAIN this model on a down-stream task to be able to use it for predictions and inference.\n"
          ],
          "name": "stderr"
        },
        {
          "output_type": "display_data",
          "data": {
            "application/vnd.jupyter.widget-view+json": {
              "model_id": "5e017081cd1a468c9371535fb73553f5",
              "version_major": 2,
              "version_minor": 0
            },
            "text/plain": [
              "HBox(children=(FloatProgress(value=0.0, description='TRAIN', max=4000.0, style=ProgressStyle(description_width…"
            ]
          },
          "metadata": {
            "tags": []
          }
        },
        {
          "output_type": "stream",
          "text": [
            "/usr/local/lib/python3.7/dist-packages/torch/optim/lr_scheduler.py:134: UserWarning: Detected call of `lr_scheduler.step()` before `optimizer.step()`. In PyTorch 1.1.0 and later, you should call them in the opposite order: `optimizer.step()` before `lr_scheduler.step()`.  Failure to do this will result in PyTorch skipping the first value of the learning rate schedule. See more details at https://pytorch.org/docs/stable/optim.html#how-to-adjust-learning-rate\n",
            "  \"https://pytorch.org/docs/stable/optim.html#how-to-adjust-learning-rate\", UserWarning)\n"
          ],
          "name": "stderr"
        },
        {
          "output_type": "stream",
          "text": [
            "reach max patient, break\n"
          ],
          "name": "stdout"
        },
        {
          "output_type": "stream",
          "text": [
            "2021-07-22 12:37:29,674 wwm_base_mlm_rdrop_cnn fold-1 best is 0.9589410348977137\n"
          ],
          "name": "stderr"
        },
        {
          "output_type": "stream",
          "text": [
            "predict\n"
          ],
          "name": "stdout"
        },
        {
          "output_type": "stream",
          "text": [
            "2021-07-22 12:40:07,055 wwm_base_mlm_rdrop_cnn fold-1 bad case: 0\n",
            "2021-07-22 12:40:07,807 wwm_base_mlm_rdrop_cnn fold-1 bad case after pp: 0\n"
          ],
          "name": "stderr"
        },
        {
          "output_type": "stream",
          "text": [
            "fold: 2\n"
          ],
          "name": "stdout"
        },
        {
          "output_type": "stream",
          "text": [
            "Some weights of the model checkpoint at /content/drive/Shareddrives/wzlnot/addr_element/mlm_tuning were not used when initializing BertModel: ['cls.predictions.transform.dense.weight', 'cls.predictions.transform.LayerNorm.bias', 'cls.predictions.decoder.bias', 'cls.predictions.transform.dense.bias', 'cls.predictions.decoder.weight', 'cls.predictions.transform.LayerNorm.weight', 'cls.predictions.bias']\n",
            "- This IS expected if you are initializing BertModel from the checkpoint of a model trained on another task or with another architecture (e.g. initializing a BertForSequenceClassification model from a BertForPreTraining model).\n",
            "- This IS NOT expected if you are initializing BertModel from the checkpoint of a model that you expect to be exactly identical (initializing a BertForSequenceClassification model from a BertForSequenceClassification model).\n",
            "Some weights of BertModel were not initialized from the model checkpoint at /content/drive/Shareddrives/wzlnot/addr_element/mlm_tuning and are newly initialized: ['bert.pooler.dense.weight', 'bert.pooler.dense.bias']\n",
            "You should probably TRAIN this model on a down-stream task to be able to use it for predictions and inference.\n"
          ],
          "name": "stderr"
        },
        {
          "output_type": "display_data",
          "data": {
            "application/vnd.jupyter.widget-view+json": {
              "model_id": "d9fffdf3a4a141009bdc1ed66ab8840c",
              "version_major": 2,
              "version_minor": 0
            },
            "text/plain": [
              "HBox(children=(FloatProgress(value=0.0, description='TRAIN', max=4000.0, style=ProgressStyle(description_width…"
            ]
          },
          "metadata": {
            "tags": []
          }
        },
        {
          "output_type": "stream",
          "text": [
            "/usr/local/lib/python3.7/dist-packages/torch/optim/lr_scheduler.py:134: UserWarning: Detected call of `lr_scheduler.step()` before `optimizer.step()`. In PyTorch 1.1.0 and later, you should call them in the opposite order: `optimizer.step()` before `lr_scheduler.step()`.  Failure to do this will result in PyTorch skipping the first value of the learning rate schedule. See more details at https://pytorch.org/docs/stable/optim.html#how-to-adjust-learning-rate\n",
            "  \"https://pytorch.org/docs/stable/optim.html#how-to-adjust-learning-rate\", UserWarning)\n"
          ],
          "name": "stderr"
        },
        {
          "output_type": "stream",
          "text": [
            "reach max patient, break\n"
          ],
          "name": "stdout"
        },
        {
          "output_type": "stream",
          "text": [
            "2021-07-22 12:56:43,387 wwm_base_mlm_rdrop_cnn fold-2 best is 0.9592326139088729\n"
          ],
          "name": "stderr"
        },
        {
          "output_type": "stream",
          "text": [
            "predict\n"
          ],
          "name": "stdout"
        },
        {
          "output_type": "stream",
          "text": [
            "2021-07-22 12:59:19,909 wwm_base_mlm_rdrop_cnn fold-2 bad case: 0\n",
            "2021-07-22 12:59:20,658 wwm_base_mlm_rdrop_cnn fold-2 bad case after pp: 0\n"
          ],
          "name": "stderr"
        },
        {
          "output_type": "stream",
          "text": [
            "fold: 3\n"
          ],
          "name": "stdout"
        },
        {
          "output_type": "stream",
          "text": [
            "Some weights of the model checkpoint at /content/drive/Shareddrives/wzlnot/addr_element/mlm_tuning were not used when initializing BertModel: ['cls.predictions.transform.dense.weight', 'cls.predictions.transform.LayerNorm.bias', 'cls.predictions.decoder.bias', 'cls.predictions.transform.dense.bias', 'cls.predictions.decoder.weight', 'cls.predictions.transform.LayerNorm.weight', 'cls.predictions.bias']\n",
            "- This IS expected if you are initializing BertModel from the checkpoint of a model trained on another task or with another architecture (e.g. initializing a BertForSequenceClassification model from a BertForPreTraining model).\n",
            "- This IS NOT expected if you are initializing BertModel from the checkpoint of a model that you expect to be exactly identical (initializing a BertForSequenceClassification model from a BertForSequenceClassification model).\n",
            "Some weights of BertModel were not initialized from the model checkpoint at /content/drive/Shareddrives/wzlnot/addr_element/mlm_tuning and are newly initialized: ['bert.pooler.dense.weight', 'bert.pooler.dense.bias']\n",
            "You should probably TRAIN this model on a down-stream task to be able to use it for predictions and inference.\n"
          ],
          "name": "stderr"
        },
        {
          "output_type": "display_data",
          "data": {
            "application/vnd.jupyter.widget-view+json": {
              "model_id": "0dae1aed8d284495bb2f5a7e48d5991c",
              "version_major": 2,
              "version_minor": 0
            },
            "text/plain": [
              "HBox(children=(FloatProgress(value=0.0, description='TRAIN', max=4000.0, style=ProgressStyle(description_width…"
            ]
          },
          "metadata": {
            "tags": []
          }
        },
        {
          "output_type": "stream",
          "text": [
            "/usr/local/lib/python3.7/dist-packages/torch/optim/lr_scheduler.py:134: UserWarning: Detected call of `lr_scheduler.step()` before `optimizer.step()`. In PyTorch 1.1.0 and later, you should call them in the opposite order: `optimizer.step()` before `lr_scheduler.step()`.  Failure to do this will result in PyTorch skipping the first value of the learning rate schedule. See more details at https://pytorch.org/docs/stable/optim.html#how-to-adjust-learning-rate\n",
            "  \"https://pytorch.org/docs/stable/optim.html#how-to-adjust-learning-rate\", UserWarning)\n"
          ],
          "name": "stderr"
        },
        {
          "output_type": "stream",
          "text": [
            "reach max patient, break\n"
          ],
          "name": "stdout"
        },
        {
          "output_type": "stream",
          "text": [
            "2021-07-22 13:20:56,278 wwm_base_mlm_rdrop_cnn fold-3 best is 0.961657833166213\n"
          ],
          "name": "stderr"
        },
        {
          "output_type": "stream",
          "text": [
            "predict\n"
          ],
          "name": "stdout"
        },
        {
          "output_type": "stream",
          "text": [
            "2021-07-22 13:23:33,189 wwm_base_mlm_rdrop_cnn fold-3 bad case: 0\n",
            "2021-07-22 13:23:33,944 wwm_base_mlm_rdrop_cnn fold-3 bad case after pp: 0\n"
          ],
          "name": "stderr"
        },
        {
          "output_type": "stream",
          "text": [
            "fold: 4\n"
          ],
          "name": "stdout"
        },
        {
          "output_type": "stream",
          "text": [
            "Some weights of the model checkpoint at /content/drive/Shareddrives/wzlnot/addr_element/mlm_tuning were not used when initializing BertModel: ['cls.predictions.transform.dense.weight', 'cls.predictions.transform.LayerNorm.bias', 'cls.predictions.decoder.bias', 'cls.predictions.transform.dense.bias', 'cls.predictions.decoder.weight', 'cls.predictions.transform.LayerNorm.weight', 'cls.predictions.bias']\n",
            "- This IS expected if you are initializing BertModel from the checkpoint of a model trained on another task or with another architecture (e.g. initializing a BertForSequenceClassification model from a BertForPreTraining model).\n",
            "- This IS NOT expected if you are initializing BertModel from the checkpoint of a model that you expect to be exactly identical (initializing a BertForSequenceClassification model from a BertForSequenceClassification model).\n",
            "Some weights of BertModel were not initialized from the model checkpoint at /content/drive/Shareddrives/wzlnot/addr_element/mlm_tuning and are newly initialized: ['bert.pooler.dense.weight', 'bert.pooler.dense.bias']\n",
            "You should probably TRAIN this model on a down-stream task to be able to use it for predictions and inference.\n"
          ],
          "name": "stderr"
        },
        {
          "output_type": "display_data",
          "data": {
            "application/vnd.jupyter.widget-view+json": {
              "model_id": "00160a8527a942b1b2eea173b35ecea9",
              "version_minor": 0,
              "version_major": 2
            },
            "text/plain": [
              "HBox(children=(FloatProgress(value=0.0, description='TRAIN', max=4000.0, style=ProgressStyle(description_width…"
            ]
          },
          "metadata": {
            "tags": []
          }
        },
        {
          "output_type": "stream",
          "text": [
            "/usr/local/lib/python3.7/dist-packages/torch/optim/lr_scheduler.py:134: UserWarning: Detected call of `lr_scheduler.step()` before `optimizer.step()`. In PyTorch 1.1.0 and later, you should call them in the opposite order: `optimizer.step()` before `lr_scheduler.step()`.  Failure to do this will result in PyTorch skipping the first value of the learning rate schedule. See more details at https://pytorch.org/docs/stable/optim.html#how-to-adjust-learning-rate\n",
            "  \"https://pytorch.org/docs/stable/optim.html#how-to-adjust-learning-rate\", UserWarning)\n"
          ],
          "name": "stderr"
        },
        {
          "output_type": "stream",
          "text": [
            "reach max patient, break\n"
          ],
          "name": "stdout"
        },
        {
          "output_type": "stream",
          "text": [
            "2021-07-22 13:41:00,269 wwm_base_mlm_rdrop_cnn fold-4 best is 0.9621960486322189\n"
          ],
          "name": "stderr"
        },
        {
          "output_type": "stream",
          "text": [
            "predict\n"
          ],
          "name": "stdout"
        },
        {
          "output_type": "stream",
          "text": [
            "2021-07-22 13:43:36,716 wwm_base_mlm_rdrop_cnn fold-4 bad case: 0\n",
            "2021-07-22 13:43:37,411 wwm_base_mlm_rdrop_cnn fold-4 bad case after pp: 0\n",
            "2021-07-22 13:43:37,413 wwm_base_mlm_rdrop_cnn oof score: 0.9606672116066797\n"
          ],
          "name": "stderr"
        },
        {
          "output_type": "display_data",
          "data": {
            "image/png": "[encoded data removed]",
            "text/plain": [
              "<Figure size 720x432 with 4 Axes>"
            ]
          },
          "metadata": {
            "tags": [],
            "needs_background": "light"
          }
        },
        {
          "output_type": "display_data",
          "data": {
            "image/png": "[encoded data removed]",
            "text/plain": [
              "<Figure size 720x432 with 4 Axes>"
            ]
          },
          "metadata": {
            "tags": [],
            "needs_background": "light"
          }
        },
        {
          "output_type": "display_data",
          "data": {
            "image/png": "[encoded data removed]",
            "text/plain": [
              "<Figure size 720x432 with 4 Axes>"
            ]
          },
          "metadata": {
            "tags": [],
            "needs_background": "light"
          }
        },
        {
          "output_type": "display_data",
          "data": {
            "image/png": "[encoded data removed]",
            "text/plain": [
              "<Figure size 720x432 with 4 Axes>"
            ]
          },
          "metadata": {
            "tags": [],
            "needs_background": "light"
          }
        },
        {
          "output_type": "display_data",
          "data": {
            "image/png": "[encoded data removed]",
            "text/plain": [
              "<Figure size 720x432 with 4 Axes>"
            ]
          },
          "metadata": {
            "tags": [],
            "needs_background": "light"
          }
        }
      ]
    }
  ]
}